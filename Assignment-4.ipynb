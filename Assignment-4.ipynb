{
 "cells": [
  {
   "cell_type": "markdown",
   "id": "d99626fc",
   "metadata": {},
   "source": [
    "### 1. What exactly is [ ]?"
   ]
  },
  {
   "cell_type": "markdown",
   "id": "1ea9c94a",
   "metadata": {},
   "source": [
    "The empty list value, which is a list value that contains no items. This is similar to how '' is the empty string value.\n"
   ]
  },
  {
   "cell_type": "markdown",
   "id": "134378a2",
   "metadata": {},
   "source": [
    "### 2. In a list of values stored in a variable called spam, how would you assign the value 'hello' as the third value? (Assume [2, 4, 6, 8, 10] are in spam.)"
   ]
  },
  {
   "cell_type": "code",
   "execution_count": 1,
   "id": "27857d4c",
   "metadata": {},
   "outputs": [
    {
     "data": {
      "text/plain": [
       "[2, 4, 'hello', 8, 10]"
      ]
     },
     "execution_count": 1,
     "metadata": {},
     "output_type": "execute_result"
    }
   ],
   "source": [
    "spam=[2,4,6,8,10]\n",
    "spam[2]=\"hello\"\n",
    "spami"
   ]
  },
  {
   "cell_type": "markdown",
   "id": "d70e8c32",
   "metadata": {},
   "source": [
    "### 3. What is the value of spam[int(int('3' * 2) / 11)]?"
   ]
  },
  {
   "cell_type": "code",
   "execution_count": 2,
   "id": "e84077e4",
   "metadata": {},
   "outputs": [
    {
     "data": {
      "text/plain": [
       "8"
      ]
     },
     "execution_count": 2,
     "metadata": {},
     "output_type": "execute_result"
    }
   ],
   "source": [
    "spam[int(int('3' * 2) / 11)]"
   ]
  },
  {
   "cell_type": "markdown",
   "id": "73f752cb",
   "metadata": {},
   "source": [
    "### 4. What is the value of spam[-1]?"
   ]
  },
  {
   "cell_type": "code",
   "execution_count": 4,
   "id": "ac648160",
   "metadata": {
    "scrolled": true
   },
   "outputs": [
    {
     "data": {
      "text/plain": [
       "'d'"
      ]
     },
     "execution_count": 4,
     "metadata": {},
     "output_type": "execute_result"
    }
   ],
   "source": [
    "spam=['a','b','c','d']\n",
    "spam[-1]"
   ]
  },
  {
   "cell_type": "markdown",
   "id": "5edf1ddc",
   "metadata": {},
   "source": [
    "### 5. What is the value of spam[:2]?"
   ]
  },
  {
   "cell_type": "code",
   "execution_count": 5,
   "id": "4e383e48",
   "metadata": {},
   "outputs": [
    {
     "data": {
      "text/plain": [
       "['a', 'b']"
      ]
     },
     "execution_count": 5,
     "metadata": {},
     "output_type": "execute_result"
    }
   ],
   "source": [
    "spam=['a','b','c','d']\n",
    "spam[:2]"
   ]
  },
  {
   "cell_type": "markdown",
   "id": "1ec034fe",
   "metadata": {},
   "source": [
    "### 6. What is the value of bacon.index('cat')?"
   ]
  },
  {
   "cell_type": "code",
   "execution_count": 9,
   "id": "9da3489f",
   "metadata": {},
   "outputs": [
    {
     "data": {
      "text/plain": [
       "1"
      ]
     },
     "execution_count": 9,
     "metadata": {},
     "output_type": "execute_result"
    }
   ],
   "source": [
    "bacon= [3.14, 'cat', 11, 'cat',True] \n",
    "bacon.index(\"cat\")"
   ]
  },
  {
   "cell_type": "markdown",
   "id": "00cd9ae4",
   "metadata": {},
   "source": [
    "### 7. How does bacon.append(99) change the look of the list value in bacon?\n",
    "\n",
    "It will be added to the end of the list bacon"
   ]
  },
  {
   "cell_type": "code",
   "execution_count": 14,
   "id": "00b74938",
   "metadata": {},
   "outputs": [
    {
     "data": {
      "text/plain": [
       "[3.14, 'cat', 11, 'cat', True, 99]"
      ]
     },
     "execution_count": 14,
     "metadata": {},
     "output_type": "execute_result"
    }
   ],
   "source": [
    "bacon= [3.14, 'cat', 11, 'cat',True] \n",
    "bacon.append(99)\n",
    "bacon"
   ]
  },
  {
   "cell_type": "markdown",
   "id": "5477406b",
   "metadata": {},
   "source": [
    "### 8. How does bacon.remove('cat') change the look of the list in bacon?\n",
    "\n",
    "It removes the cat value in list bacon"
   ]
  },
  {
   "cell_type": "code",
   "execution_count": 18,
   "id": "e4d61e0e",
   "metadata": {},
   "outputs": [
    {
     "data": {
      "text/plain": [
       "[3.14, 11, 'cat', True]"
      ]
     },
     "execution_count": 18,
     "metadata": {},
     "output_type": "execute_result"
    }
   ],
   "source": [
    "bacon= [3.14, 'cat', 11, 'cat',True] \n",
    "bacon.remove('cat')\n",
    "bacon"
   ]
  },
  {
   "cell_type": "markdown",
   "id": "3b1e25d3",
   "metadata": {},
   "source": [
    "### 9. What are the list concatenation and list replication operators?"
   ]
  },
  {
   "cell_type": "markdown",
   "id": "d6f5ee90",
   "metadata": {},
   "source": [
    "list concatenation - '+'\n",
    "\n",
    "list replication - '*'"
   ]
  },
  {
   "cell_type": "markdown",
   "id": "781c2ecc",
   "metadata": {},
   "source": [
    "### 10. What is difference between the list methods append() and insert()?"
   ]
  },
  {
   "cell_type": "markdown",
   "id": "355365f9",
   "metadata": {},
   "source": [
    "append() method adds an item to the end of a list, whereas . insert() method inserts and item in a specified position in the list"
   ]
  },
  {
   "cell_type": "markdown",
   "id": "af39b533",
   "metadata": {},
   "source": [
    "### 11. What are the two methods for removing items from a list?"
   ]
  },
  {
   "cell_type": "markdown",
   "id": "0c60e89b",
   "metadata": {},
   "source": [
    " remove() and pop() "
   ]
  },
  {
   "cell_type": "markdown",
   "id": "afd34a63",
   "metadata": {},
   "source": [
    "### 12. Describe how list values and string values are identical. "
   ]
  },
  {
   "cell_type": "markdown",
   "id": "812cd5ad",
   "metadata": {},
   "source": [
    "The similarity between Lists and Strings in Python is that both are sequences. The differences between them are that firstly, Lists are mutable but Strings are immutable. Secondly, elements of a list can be of different types whereas a String only contains characters that are all of String type"
   ]
  },
  {
   "cell_type": "markdown",
   "id": "0536f149",
   "metadata": {},
   "source": [
    "### 13. What's the difference between tuples and lists?"
   ]
  },
  {
   "cell_type": "markdown",
   "id": "9276bcf7",
   "metadata": {},
   "source": [
    "Tuples - are immutable (cannot change)\n",
    "\n",
    "\n",
    "lists - are mutable (can change)"
   ]
  },
  {
   "cell_type": "markdown",
   "id": "b6c35fb4",
   "metadata": {},
   "source": [
    "### 14. How do you type a tuple value that only contains the integer 42?"
   ]
  },
  {
   "cell_type": "code",
   "execution_count": 20,
   "id": "18799987",
   "metadata": {},
   "outputs": [
    {
     "data": {
      "text/plain": [
       "tuple"
      ]
     },
     "execution_count": 20,
     "metadata": {},
     "output_type": "execute_result"
    }
   ],
   "source": [
    "tp=(42,)\n",
    "type(tp)"
   ]
  },
  {
   "cell_type": "markdown",
   "id": "cc5d4c80",
   "metadata": {},
   "source": [
    "### 15. How do you get a list value's tuple form? How do you get a tuple value's list form?\n",
    "\n",
    "list value's tuple form  and tuple value's list form is nothing but typecasting"
   ]
  },
  {
   "cell_type": "code",
   "execution_count": 22,
   "id": "94608de7",
   "metadata": {},
   "outputs": [
    {
     "name": "stdout",
     "output_type": "stream",
     "text": [
      "(1, 2, 3, 4, 5, 'hello')\n",
      "['helloi', 3, 2, 33, True, 'a']\n"
     ]
    }
   ],
   "source": [
    "l1=[1,2,3,4,5,\"hello\"]\n",
    "l2=(\"helloi\",3,2,33,True,'a')\n",
    "print(tuple(l1))\n",
    "print(list(l2))"
   ]
  },
  {
   "cell_type": "markdown",
   "id": "a0af829e",
   "metadata": {},
   "source": [
    "### 16. Variables that \"contain\" list values are not necessarily lists themselves. Instead, what do they contain?"
   ]
  },
  {
   "cell_type": "markdown",
   "id": "a8c1454b",
   "metadata": {},
   "source": [
    "Variables will contain references to list values rather than list values themselves. But for strings and integer values, variables simply contain the string or integer value. Python uses references whenever variables must store values of mutable data types, such as lists or dictionaries."
   ]
  },
  {
   "cell_type": "markdown",
   "id": "2ccfdc4d",
   "metadata": {},
   "source": [
    "### 17. How do you distinguish between copy.copy() and copy.deepcopy()?"
   ]
  },
  {
   "cell_type": "markdown",
   "id": "7c4baec1",
   "metadata": {},
   "source": [
    "\n",
    "copy() create reference to original object. If you change copied object - you change the original object. \n",
    "\n",
    "deepcopy() creates new object and does real copying of original object to new one"
   ]
  }
 ],
 "metadata": {
  "kernelspec": {
   "display_name": "Python 3",
   "language": "python",
   "name": "python3"
  },
  "language_info": {
   "codemirror_mode": {
    "name": "ipython",
    "version": 3
   },
   "file_extension": ".py",
   "mimetype": "text/x-python",
   "name": "python",
   "nbconvert_exporter": "python",
   "pygments_lexer": "ipython3",
   "version": "3.8.8"
  }
 },
 "nbformat": 4,
 "nbformat_minor": 5
}
